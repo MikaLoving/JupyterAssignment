{
 "cells": [
  {
   "cell_type": "markdown",
   "id": "a83e8baa",
   "metadata": {},
   "source": [
    "# Data Science Tools and Ecosystem #"
   ]
  },
  {
   "cell_type": "markdown",
   "id": "b7551f3f-f432-4e12-b41f-0890c27e5620",
   "metadata": {},
   "source": [
    "In this notebook, Data Science Tools and Ecosystem are summarized."
   ]
  },
  {
   "cell_type": "markdown",
   "id": "7cbd856d-a3a2-4673-82c5-7058495e2fd5",
   "metadata": {},
   "source": [
    "**Objectives:**\n",
    "\n",
    "- List popular languages for Data Science\n",
    "- Some of the popular Languages that Data Science use\n",
    "- Some of the commonly used libraries"
   ]
  },
  {
   "cell_type": "markdown",
   "id": "ddae0a3e-170e-47b6-bcf7-e5b3ced65b19",
   "metadata": {},
   "source": [
    "Some of the popular languages that Data Scientists use are:"
   ]
  },
  {
   "cell_type": "markdown",
   "id": "0a58c926-60cf-4d71-9532-2fc7a67824c8",
   "metadata": {},
   "source": [
    "1. Python\n",
    "2. R\n",
    "3. Julia"
   ]
  },
  {
   "cell_type": "markdown",
   "id": "417f0266-a8fa-4a59-9544-062788ac6e05",
   "metadata": {},
   "source": [
    "Some of the commonly used libraries used by Data Scientists include:\n",
    "1. TensorFlow.\n",
    "2. NumPy.\n",
    "3. SciPy.\n",
    "4. Pandas.\n",
    "5. Matplotlib.\n",
    "6. Keras.\n",
    "7. SciKit-Learn."
   ]
  },
  {
   "cell_type": "markdown",
   "id": "6e0b7935-bc69-42ca-9da4-d1f311ab4c63",
   "metadata": {},
   "source": [
    "|Data Science Tools|\n",
    "--------------------\n",
    "|Apache Spark|\n",
    "|Julia|\n",
    "|Jupyter Notebook|"
   ]
  },
  {
   "cell_type": "markdown",
   "id": "225df0f7-067f-477b-b9df-8e065609a18d",
   "metadata": {},
   "source": [
    "### Below are a few examples of evaluating arithmetic expressions in Python ###"
   ]
  },
  {
   "cell_type": "markdown",
   "id": "3c82dbd0-bb78-4247-abd5-ecc734e9a031",
   "metadata": {},
   "source": [
    "This a simple arithmetic expression to mutiply then add integers"
   ]
  },
  {
   "cell_type": "code",
   "execution_count": 2,
   "id": "dca22360-0969-4171-a9b2-5cbb1403a684",
   "metadata": {
    "tags": []
   },
   "outputs": [
    {
     "data": {
      "text/plain": [
       "17"
      ]
     },
     "execution_count": 2,
     "metadata": {},
     "output_type": "execute_result"
    }
   ],
   "source": [
    "(3*4)+5"
   ]
  },
  {
   "cell_type": "markdown",
   "id": "66193220-e9e1-4154-beee-19168f638e37",
   "metadata": {},
   "source": [
    "This will convert 200 minutes to hours by diving by 60"
   ]
  },
  {
   "cell_type": "code",
   "execution_count": 3,
   "id": "b6fe7611-5c0a-4444-9512-d7d362d9eee4",
   "metadata": {
    "tags": []
   },
   "outputs": [
    {
     "data": {
      "text/plain": [
       "3.3333333333333335"
      ]
     },
     "execution_count": 3,
     "metadata": {},
     "output_type": "execute_result"
    }
   ],
   "source": [
    "200/60"
   ]
  },
  {
   "cell_type": "markdown",
   "id": "80dce4df-a132-49a6-9152-594622ed8c2f",
   "metadata": {},
   "source": [
    "## Author ##\n",
    "Carolina Herrera"
   ]
  },
  {
   "cell_type": "code",
   "execution_count": null,
   "id": "9ff127fa-fdaf-45f7-b9d0-f3782ca85799",
   "metadata": {},
   "outputs": [],
   "source": []
  }
 ],
 "metadata": {
  "kernelspec": {
   "display_name": "Python 3 (ipykernel)",
   "language": "python",
   "name": "python3"
  },
  "language_info": {
   "codemirror_mode": {
    "name": "ipython",
    "version": 3
   },
   "file_extension": ".py",
   "mimetype": "text/x-python",
   "name": "python",
   "nbconvert_exporter": "python",
   "pygments_lexer": "ipython3",
   "version": "3.11.4"
  }
 },
 "nbformat": 4,
 "nbformat_minor": 5
}
